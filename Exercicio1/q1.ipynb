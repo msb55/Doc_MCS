{
 "cells": [
  {
   "cell_type": "code",
   "execution_count": 1,
   "metadata": {},
   "outputs": [],
   "source": [
    "import matplotlib.pyplot as plt\n",
    "import pandas as pd\n",
    "import numpy as np\n",
    "import copy\n",
    "import pickle\n",
    "#import statistics as stats\n",
    "from collections import Counter\n",
    "from sklearn.preprocessing import StandardScaler\n",
    "#from sklearn.preprocessing import MinMaxScaler\n",
    "#from sklearn.preprocessing import MaxAbsScaler\n",
    "#from sklearn.preprocessing import RobustScaler\n",
    "#from sklearn.preprocessing import PowerTransformer\n",
    "from sklearn.impute import SimpleImputer\n",
    "#from sklearn.model_selection import cross_val_score\n",
    "#from sklearn.model_selection import cross_validate\n",
    "from imblearn.metrics import geometric_mean_score\n",
    "#from sklearn.metrics import make_scorer\n",
    "from sklearn.metrics import accuracy_score\n",
    "from sklearn.metrics import f1_score\n",
    "from sklearn.metrics import roc_auc_score\n",
    "from sklearn.metrics import confusion_matrix\n",
    "from sklearn.linear_model import Perceptron\n",
    "from sklearn.ensemble import BaggingClassifier\n",
    "from sklearn.ensemble import AdaBoostClassifier\n",
    "from sklearn.calibration import CalibratedClassifierCV\n",
    "from deslib.static import Oracle\n",
    "import oracle as oracle_v2\n",
    "from rlo import * #rlo.py - Random Linear Oracle implementation based on Kuncheva's book. \n",
    "#from sklearn.svm import SVC\n",
    "#from sklearn.ensemble import RandomForestClassifier\n",
    "#from sklearn.neighbors import KNeighborsClassifier\n",
    "#from xgboost import XGBClassifier\n",
    "#from datetime import datetime\n"
   ]
  },
  {
   "cell_type": "markdown",
   "metadata": {},
   "source": [
    "### Loading data"
   ]
  },
  {
   "cell_type": "markdown",
   "metadata": {},
   "source": [
    "#### First let's build a function to convert KEEL data to a regular CSV (remove annotations before data):"
   ]
  },
  {
   "cell_type": "code",
   "execution_count": 2,
   "metadata": {},
   "outputs": [],
   "source": [
    "def keel2csv(file):\n",
    "    ''' Reads a KEEL .dat file, converts it into a regular CSV data file \n",
    "    that contains a header line. The output .csv file is written to the same \n",
    "    dir as the original .dat file. This function also returns a dict \n",
    "    {'numeric':[], 'nominal':[]} containg two lists, one for the numeric \n",
    "    attributes and the other for the nominal atributes.'''\n",
    "    filename = file.name\n",
    "    # Let's read the attribute types (useful for preprocessing) and also the \n",
    "    # column names from the @annotations, inclunding the target (class) column:\n",
    "    has_inputs = has_outputs = False\n",
    "    numeric_atts = []\n",
    "    nominal_atts = []\n",
    "    for line in file:\n",
    "        if '@attribute' in line:\n",
    "            if (' real' in line) or (' integer' in line):\n",
    "                numeric_atts.append(line.split(' ')[1])\n",
    "            elif '{' in line:\n",
    "                nominal_atts.append(line.split(' ')[1])\n",
    "        if line.startswith('@inputs'):\n",
    "            att_names = line[8:-1].replace(' ', '')\n",
    "            has_inputs = True\n",
    "        elif line.startswith('@input'):\n",
    "            att_names = line[7:-1].replace(' ', '')\n",
    "            has_inputs = True\n",
    "        elif line.startswith('@outputs') or line.startswith('@output'):\n",
    "            class_name = line[9:-1]\n",
    "            has_outputs = True\n",
    "            break\n",
    "        elif line.startswith('@output'):\n",
    "            class_name = line[8:-1]\n",
    "            has_outputs = True\n",
    "            break\n",
    "    if (not has_inputs) or (not has_outputs):\n",
    "        print('File ', filename, 'missing annotations?' )\n",
    "\n",
    "    columns = att_names + ',' + class_name\n",
    "\n",
    "    #Then, lets remove the annotations and save the column names and data into a csv file:\n",
    "    lines = file.readlines() \n",
    "    file.close()\n",
    "    new_file = open(filename[:-4]+'.csv','w')\n",
    "    new_file.write(columns+'\\n')\n",
    "    for line in lines:\n",
    "        if not line.startswith('@'):\n",
    "            new_file.write(line)\n",
    "    new_file.close()    \n",
    "    return {'numeric':numeric_atts, 'nominal':nominal_atts}"
   ]
  },
  {
   "cell_type": "markdown",
   "metadata": {},
   "source": [
    "#### Now, we need to run through the files and execute the keel2csv function for each KEEL dat file:"
   ]
  },
  {
   "cell_type": "code",
   "execution_count": 3,
   "metadata": {},
   "outputs": [],
   "source": [
    "ds_names = ['glass1', 'wisconsin', 'pima', 'ecoli2', 'vowel0']\n",
    "rootdir = '/Users/lucasamorim/Downloads/KEEL_imb_classification_data_exercicio1'\n"
   ]
  },
  {
   "cell_type": "code",
   "execution_count": 4,
   "metadata": {},
   "outputs": [],
   "source": [
    "# Converting KEEL .dat files to CSV:\n",
    "att_types = {} #This dictionary will have each dataset name as key and will hold the attribute types.\n",
    "for name in ds_names:\n",
    "    for fold in range(1,6):\n",
    "        full_path = rootdir+'/'+name+'-5-fold/'+name+'-5-'+str(fold)+'tra.dat' \n",
    "        f = open(full_path, 'r')\n",
    "        att_types[name] = keel2csv(f)\n",
    "        f.close()\n",
    "        full_path = rootdir+'/'+name+'-5-fold/'+name+'-5-'+str(fold)+'tst.dat' \n",
    "        f = open(full_path, 'r')\n",
    "        keel2csv(f)\n",
    "        f.close()"
   ]
  },
  {
   "cell_type": "markdown",
   "metadata": {},
   "source": [
    "#### Ok, now that we finally have all the data in CSV format, lets load them:"
   ]
  },
  {
   "cell_type": "code",
   "execution_count": 5,
   "metadata": {},
   "outputs": [],
   "source": [
    "# I will create a dict structure such that I can access train fold 1 from \n",
    "# dataset wisconsin as datasets['wisconsin']['train'][0]\n",
    "\n",
    "datasets = {}\n",
    "for name in ds_names:\n",
    "    datasets[name] = {}\n",
    "    datasets[name]['train'] = []\n",
    "    datasets[name]['test'] = []\n",
    "    for fold in range(1,6):\n",
    "        csv_filename = rootdir+'/'+name+'-5-fold/'+name+'-5-'+str(fold)+'tra.csv'\n",
    "        df_train = pd.read_csv(csv_filename, encoding='utf8', engine='python', sep=',', \n",
    "                     header=0, error_bad_lines=False)\n",
    "        csv_filename = rootdir+'/'+name+'-5-fold/'+name+'-5-'+str(fold)+'tst.csv'\n",
    "        df_test = pd.read_csv(csv_filename, encoding='utf8', engine='python', sep=',', \n",
    "                     header=0, error_bad_lines=False)\n",
    "        datasets[name]['train'].append(df_train)\n",
    "        datasets[name]['test'].append(df_test)\n"
   ]
  },
  {
   "cell_type": "code",
   "execution_count": 6,
   "metadata": {},
   "outputs": [
    {
     "data": {
      "text/html": [
       "<div>\n",
       "<style scoped>\n",
       "    .dataframe tbody tr th:only-of-type {\n",
       "        vertical-align: middle;\n",
       "    }\n",
       "\n",
       "    .dataframe tbody tr th {\n",
       "        vertical-align: top;\n",
       "    }\n",
       "\n",
       "    .dataframe thead th {\n",
       "        text-align: right;\n",
       "    }\n",
       "</style>\n",
       "<table border=\"1\" class=\"dataframe\">\n",
       "  <thead>\n",
       "    <tr style=\"text-align: right;\">\n",
       "      <th></th>\n",
       "      <th>Preg</th>\n",
       "      <th>Plas</th>\n",
       "      <th>Pres</th>\n",
       "      <th>Skin</th>\n",
       "      <th>Insu</th>\n",
       "      <th>Mass</th>\n",
       "      <th>Pedi</th>\n",
       "      <th>Age</th>\n",
       "      <th>Class</th>\n",
       "    </tr>\n",
       "  </thead>\n",
       "  <tbody>\n",
       "    <tr>\n",
       "      <th>0</th>\n",
       "      <td>4.0</td>\n",
       "      <td>146.0</td>\n",
       "      <td>78.0</td>\n",
       "      <td>0.0</td>\n",
       "      <td>0.0</td>\n",
       "      <td>38.5</td>\n",
       "      <td>0.520</td>\n",
       "      <td>67.0</td>\n",
       "      <td>positive</td>\n",
       "    </tr>\n",
       "    <tr>\n",
       "      <th>1</th>\n",
       "      <td>15.0</td>\n",
       "      <td>136.0</td>\n",
       "      <td>70.0</td>\n",
       "      <td>32.0</td>\n",
       "      <td>110.0</td>\n",
       "      <td>37.1</td>\n",
       "      <td>0.153</td>\n",
       "      <td>43.0</td>\n",
       "      <td>positive</td>\n",
       "    </tr>\n",
       "    <tr>\n",
       "      <th>2</th>\n",
       "      <td>3.0</td>\n",
       "      <td>107.0</td>\n",
       "      <td>62.0</td>\n",
       "      <td>13.0</td>\n",
       "      <td>48.0</td>\n",
       "      <td>22.9</td>\n",
       "      <td>0.678</td>\n",
       "      <td>23.0</td>\n",
       "      <td>positive</td>\n",
       "    </tr>\n",
       "    <tr>\n",
       "      <th>3</th>\n",
       "      <td>3.0</td>\n",
       "      <td>169.0</td>\n",
       "      <td>74.0</td>\n",
       "      <td>19.0</td>\n",
       "      <td>125.0</td>\n",
       "      <td>29.9</td>\n",
       "      <td>0.268</td>\n",
       "      <td>31.0</td>\n",
       "      <td>positive</td>\n",
       "    </tr>\n",
       "    <tr>\n",
       "      <th>4</th>\n",
       "      <td>6.0</td>\n",
       "      <td>0.0</td>\n",
       "      <td>68.0</td>\n",
       "      <td>41.0</td>\n",
       "      <td>0.0</td>\n",
       "      <td>39.0</td>\n",
       "      <td>0.727</td>\n",
       "      <td>41.0</td>\n",
       "      <td>positive</td>\n",
       "    </tr>\n",
       "    <tr>\n",
       "      <th>...</th>\n",
       "      <td>...</td>\n",
       "      <td>...</td>\n",
       "      <td>...</td>\n",
       "      <td>...</td>\n",
       "      <td>...</td>\n",
       "      <td>...</td>\n",
       "      <td>...</td>\n",
       "      <td>...</td>\n",
       "      <td>...</td>\n",
       "    </tr>\n",
       "    <tr>\n",
       "      <th>610</th>\n",
       "      <td>5.0</td>\n",
       "      <td>117.0</td>\n",
       "      <td>92.0</td>\n",
       "      <td>0.0</td>\n",
       "      <td>0.0</td>\n",
       "      <td>34.1</td>\n",
       "      <td>0.337</td>\n",
       "      <td>38.0</td>\n",
       "      <td>negative</td>\n",
       "    </tr>\n",
       "    <tr>\n",
       "      <th>611</th>\n",
       "      <td>4.0</td>\n",
       "      <td>83.0</td>\n",
       "      <td>86.0</td>\n",
       "      <td>19.0</td>\n",
       "      <td>0.0</td>\n",
       "      <td>29.3</td>\n",
       "      <td>0.317</td>\n",
       "      <td>34.0</td>\n",
       "      <td>negative</td>\n",
       "    </tr>\n",
       "    <tr>\n",
       "      <th>612</th>\n",
       "      <td>7.0</td>\n",
       "      <td>119.0</td>\n",
       "      <td>0.0</td>\n",
       "      <td>0.0</td>\n",
       "      <td>0.0</td>\n",
       "      <td>25.2</td>\n",
       "      <td>0.209</td>\n",
       "      <td>37.0</td>\n",
       "      <td>negative</td>\n",
       "    </tr>\n",
       "    <tr>\n",
       "      <th>613</th>\n",
       "      <td>1.0</td>\n",
       "      <td>95.0</td>\n",
       "      <td>66.0</td>\n",
       "      <td>13.0</td>\n",
       "      <td>38.0</td>\n",
       "      <td>19.6</td>\n",
       "      <td>0.334</td>\n",
       "      <td>25.0</td>\n",
       "      <td>negative</td>\n",
       "    </tr>\n",
       "    <tr>\n",
       "      <th>614</th>\n",
       "      <td>1.0</td>\n",
       "      <td>181.0</td>\n",
       "      <td>64.0</td>\n",
       "      <td>30.0</td>\n",
       "      <td>180.0</td>\n",
       "      <td>34.1</td>\n",
       "      <td>0.328</td>\n",
       "      <td>38.0</td>\n",
       "      <td>positive</td>\n",
       "    </tr>\n",
       "  </tbody>\n",
       "</table>\n",
       "<p>615 rows × 9 columns</p>\n",
       "</div>"
      ],
      "text/plain": [
       "     Preg   Plas  Pres  Skin   Insu  Mass   Pedi   Age      Class\n",
       "0     4.0  146.0  78.0   0.0    0.0  38.5  0.520  67.0   positive\n",
       "1    15.0  136.0  70.0  32.0  110.0  37.1  0.153  43.0   positive\n",
       "2     3.0  107.0  62.0  13.0   48.0  22.9  0.678  23.0   positive\n",
       "3     3.0  169.0  74.0  19.0  125.0  29.9  0.268  31.0   positive\n",
       "4     6.0    0.0  68.0  41.0    0.0  39.0  0.727  41.0   positive\n",
       "..    ...    ...   ...   ...    ...   ...    ...   ...        ...\n",
       "610   5.0  117.0  92.0   0.0    0.0  34.1  0.337  38.0   negative\n",
       "611   4.0   83.0  86.0  19.0    0.0  29.3  0.317  34.0   negative\n",
       "612   7.0  119.0   0.0   0.0    0.0  25.2  0.209  37.0   negative\n",
       "613   1.0   95.0  66.0  13.0   38.0  19.6  0.334  25.0   negative\n",
       "614   1.0  181.0  64.0  30.0  180.0  34.1  0.328  38.0   positive\n",
       "\n",
       "[615 rows x 9 columns]"
      ]
     },
     "execution_count": 6,
     "metadata": {},
     "output_type": "execute_result"
    }
   ],
   "source": [
    "datasets['pima']['train'][4]"
   ]
  },
  {
   "cell_type": "markdown",
   "metadata": {},
   "source": [
    "## Pre-processing"
   ]
  },
  {
   "cell_type": "markdown",
   "metadata": {},
   "source": [
    "### Cleaning strings"
   ]
  },
  {
   "cell_type": "code",
   "execution_count": 7,
   "metadata": {},
   "outputs": [],
   "source": [
    "# Cleaning (stripping) strings within dataframe and also changing class labels to 1 and 0.\n",
    "for name in ds_names:\n",
    "    for s in ['train', 'test']:\n",
    "        for fold in range(5):\n",
    "            df = datasets[name][s][fold]\n",
    "            df_obj = df.select_dtypes(['object'])\n",
    "            df[df_obj.columns] = df_obj.apply(lambda x: x.str.strip())\n",
    "            df['Class'] = df['Class'].replace(['positive', 'negative'],[1,0])\n",
    "                "
   ]
  },
  {
   "cell_type": "markdown",
   "metadata": {},
   "source": [
    "### One-hot encoding\n",
    "\n",
    "Here we must apply this encoding method to the nominal attributes in order to allow them to be managed by the classification algorithms."
   ]
  },
  {
   "cell_type": "code",
   "execution_count": 8,
   "metadata": {},
   "outputs": [],
   "source": [
    "for name in ds_names:\n",
    "    for s in ['train', 'test']:\n",
    "        for fold in range(5):\n",
    "            for att in att_types[name]['nominal'][:-1]: #For each nominal attribute, except the target one (last one)\n",
    "                att_encoded = pd.get_dummies(datasets[name][s][fold][att], prefix = att)\n",
    "                datasets[name][s][fold] = datasets[name][s][fold].drop([att], axis = 1)\n",
    "                datasets[name][s][fold] = pd.concat([att_encoded, datasets[name][s][fold]], axis = 1)"
   ]
  },
  {
   "cell_type": "markdown",
   "metadata": {},
   "source": [
    "### Scaling\n",
    "\n",
    "Applying the Standard Scaler to the numeric attributes:"
   ]
  },
  {
   "cell_type": "code",
   "execution_count": 9,
   "metadata": {},
   "outputs": [],
   "source": [
    "ss = StandardScaler()\n",
    "\n",
    "for name in ds_names:\n",
    "    for s in ['train', 'test']:\n",
    "        for fold in range(5):\n",
    "            datasets[name][s][fold][att_types[name]['numeric']] = ss.fit_transform(datasets[name][s][fold][att_types[name]['numeric']])"
   ]
  },
  {
   "cell_type": "markdown",
   "metadata": {},
   "source": [
    "### Dealing with missing values\n",
    "\n",
    "Applying a Simple Imputer to the numeric attributes."
   ]
  },
  {
   "cell_type": "code",
   "execution_count": 10,
   "metadata": {},
   "outputs": [],
   "source": [
    "imp_mean = SimpleImputer(missing_values=np.nan, strategy='mean')\n",
    "for name in ds_names:\n",
    "    for s in ['train', 'test']:\n",
    "        for fold in range(5):\n",
    "            datasets[name][s][fold][att_types[name]['numeric']] = imp_mean.fit_transform(datasets[name][s][fold][att_types[name]['numeric']])"
   ]
  },
  {
   "cell_type": "markdown",
   "metadata": {},
   "source": [
    "## Bulding and running the ensembles of classifiers"
   ]
  },
  {
   "cell_type": "code",
   "execution_count": 11,
   "metadata": {},
   "outputs": [],
   "source": [
    "## Creating a results.csv file with a header row:\n",
    "results_file = open('./results.csv', 'a')\n",
    "header = 'Dataset Name,model,n_estimators,accuracy,acc_std_dev,f1,f1_std_dev,g_mean,g_mean_std_dev,oracle_mean,oracle_std_dev\\n'\n",
    "results_file.write(header)\n",
    "results_file.close()"
   ]
  },
  {
   "cell_type": "markdown",
   "metadata": {},
   "source": [
    "### First let's run a single-model (perceptron) classifier to stablish a baseline."
   ]
  },
  {
   "cell_type": "code",
   "execution_count": 12,
   "metadata": {},
   "outputs": [],
   "source": [
    "results_file = open('./results.csv', 'a')\n",
    "\n",
    "model_percep = Perceptron(random_state=0)\n",
    "for name in ds_names:\n",
    "    acc_folds = []\n",
    "    f1_folds = []\n",
    "    g_mean_folds = []\n",
    "    roc_auc_folds = []\n",
    "    for fold in range(5):\n",
    "        # Gather training data:\n",
    "        ds_train = datasets[name]['train'][fold]\n",
    "        target_att = ds_train.columns.tolist()[-1]\n",
    "        X_train = ds_train.drop(labels=target_att, axis = 1)\n",
    "        y_train = ds_train[target_att]\n",
    "\n",
    "        # Gather test data:\n",
    "        ds_test = datasets[name]['test'][fold]\n",
    "        X_test = ds_test.drop(labels=target_att, axis = 1)\n",
    "        y_test = ds_test[target_att]\n",
    "\n",
    "        # Train model with the training data, we need y_score for calculating ROC-AUC\n",
    "        y_score = model_percep.fit(X_train, y_train).decision_function(X_test)\n",
    "        \n",
    "        # Test model:\n",
    "        y_pred = model_percep.predict(X_test)\n",
    "        acc = accuracy_score(y_test, y_pred)\n",
    "        f1 = f1_score(y_test, y_pred, pos_label=1)\n",
    "        g_mean = geometric_mean_score(y_test, y_pred)\n",
    "        roc_auc = roc_auc_score(y_test, y_score)\n",
    "        \n",
    "        # Store metrics for this fold\n",
    "        acc_folds.append(acc)\n",
    "        f1_folds.append(f1)\n",
    "        g_mean_folds.append(g_mean)\n",
    "        roc_auc_folds.append(roc_auc)\n",
    "        \n",
    "        #cnf_matrix = confusion_matrix(y_test, y_pred)\n",
    "        #print('Dataset %s, Fold %d, Accuracy: %.2f, F1-score: %.2f, ROC-AUC %.2f, G-Mean %.2f' % (name, fold, acc, f1, roc_auc, g_mean))\n",
    "        #print(cnf_matrix)\n",
    "    \n",
    "    # Calculate means and std devs for each metric \n",
    "    acc_mean = str(np.average(acc_folds))\n",
    "    acc_std_dev = str(np.std(acc_folds))\n",
    "    f1_mean = str(np.average(f1_folds))\n",
    "    f1_std_dev = str(np.std(f1_folds))\n",
    "    roc_auc_mean = str(np.average(roc_auc_folds))\n",
    "    roc_auc_std_dev = str(np.std(roc_auc_folds))\n",
    "    g_mean_mean = str(np.average(g_mean_folds))\n",
    "    g_mean_std_dev = str(np.std(g_mean_folds))\n",
    "    results_file.write(name+',Perceptron,1,'+acc_mean+','+acc_std_dev+','+f1_mean+','+f1_std_dev+','\n",
    "                       +roc_auc_mean+','+roc_auc_std_dev+','+g_mean_mean+','+g_mean_std_dev+', ,\\n')\n",
    "\n",
    "results_file.close()"
   ]
  },
  {
   "cell_type": "markdown",
   "metadata": {},
   "source": [
    "### Creating a generic function to run the ensembles with 5-fold cross val and save results:"
   ]
  },
  {
   "cell_type": "code",
   "execution_count": 13,
   "metadata": {},
   "outputs": [],
   "source": [
    "def run_model(meta_model_name, meta_model, base_model, results_file):\n",
    "    for n in [10, 20, 30, 40, 50, 60, 70, 80, 90, 100]:\n",
    "        print('Running', meta_model_name, 'with %d base estimators'%n)\n",
    "        meta_model.n_estimators=n\n",
    "        for name in ds_names:\n",
    "            acc_folds = []\n",
    "            f1_folds = []\n",
    "            g_mean_folds = []\n",
    "            roc_auc_folds = []\n",
    "            oracle_scores = []\n",
    "            for fold in range(5):\n",
    "                ## Gather training data:\n",
    "                ds_train = datasets[name]['train'][fold]\n",
    "                target_att = ds_train.columns.tolist()[-1]\n",
    "                X_train = ds_train.drop(labels=target_att, axis = 1)\n",
    "                y_train = ds_train[target_att]\n",
    "\n",
    "                ## Gather test data:\n",
    "                ds_test = datasets[name]['test'][fold]\n",
    "                X_test = ds_test.drop(labels=target_att, axis = 1)\n",
    "                y_test = ds_test[target_att]\n",
    "\n",
    "                ## Train model with the training data:\n",
    "                meta_model.fit(X_train,y_train)\n",
    "\n",
    "                ## Save the model object to a file for later use\n",
    "                #filename = 'saved_models/'+meta_model_name+'_n'+str(n)+'_dataset_'+name+'_fold_'+str(fold)+'.sav'\n",
    "                #pickle.dump(meta_model, open(filename, 'wb'))\n",
    "                ## Later load model with: loaded_model = pickle.load(open(filename, 'rb'))\n",
    "\n",
    "                ## Test model:\n",
    "                y_pred = meta_model.predict(X_test)\n",
    "                \n",
    "                ## Calculate metrics:\n",
    "                acc = accuracy_score(y_test, y_pred)\n",
    "                f1 = f1_score(y_test, y_pred, pos_label=1)\n",
    "                g_mean = geometric_mean_score(y_test, y_pred)\n",
    "\n",
    "                ## Store metrics for this fold:\n",
    "                acc_folds.append(acc)\n",
    "                f1_folds.append(f1)\n",
    "                g_mean_folds.append(g_mean)\n",
    "                #cnf_matrix = confusion_matrix(y_test, y_pred)\n",
    "                #print(cnf_matrix)\n",
    "\n",
    "                oracle = Oracle(meta_model).fit(X_train, y_train)\n",
    "                oracle_score = oracle.score(X_test, y_test)\n",
    "                oracle_scores.append(oracle_score)\n",
    "\n",
    "            ## Calculate means and std devs for each metric \n",
    "            acc_mean = str(np.average(acc_folds))\n",
    "            acc_std_dev = str(np.std(acc_folds))\n",
    "            f1_mean = str(np.average(f1_folds))\n",
    "            f1_std_dev = str(np.std(f1_folds))\n",
    "            g_mean_mean = str(np.average(g_mean_folds))\n",
    "            g_mean_std_dev = str(np.std(g_mean_folds))\n",
    "            oracle_mean = str(np.average(oracle_scores))\n",
    "            oracle_std_dev = str(np.std(oracle_scores))\n",
    "            results_file.write(name+','+meta_model_name+','+str(n)+','+acc_mean+','+acc_std_dev+','+f1_mean+','\n",
    "                               +f1_std_dev+','+g_mean_mean+','+g_mean_std_dev+','+oracle_mean+','+oracle_std_dev+'\\n')\n"
   ]
  },
  {
   "cell_type": "markdown",
   "metadata": {},
   "source": [
    "### Bagging"
   ]
  },
  {
   "cell_type": "code",
   "execution_count": 14,
   "metadata": {},
   "outputs": [
    {
     "name": "stdout",
     "output_type": "stream",
     "text": [
      "Running Bagging with 10 base estimators\n",
      "Running Bagging with 20 base estimators\n",
      "Running Bagging with 30 base estimators\n",
      "Running Bagging with 40 base estimators\n",
      "Running Bagging with 50 base estimators\n",
      "Running Bagging with 60 base estimators\n",
      "Running Bagging with 70 base estimators\n",
      "Running Bagging with 80 base estimators\n",
      "Running Bagging with 90 base estimators\n",
      "Running Bagging with 100 base estimators\n"
     ]
    }
   ],
   "source": [
    "results_file = open('./results.csv', 'a')\n",
    "\n",
    "#base_model = CalibratedClassifierCV(Perceptron(random_state=0))\n",
    "base_model = Perceptron(random_state=0)\n",
    "meta_model = BaggingClassifier(base_estimator=base_model, random_state=0, bootstrap=True,\n",
    "                                bootstrap_features=False, max_features=1.0, n_jobs=-1)            \n",
    "run_model('Bagging',meta_model, base_model, results_file)           \n",
    "results_file.close()"
   ]
  },
  {
   "cell_type": "markdown",
   "metadata": {},
   "source": [
    "### AdaBoost"
   ]
  },
  {
   "cell_type": "code",
   "execution_count": 15,
   "metadata": {},
   "outputs": [
    {
     "name": "stdout",
     "output_type": "stream",
     "text": [
      "Running AdaBoost with 10 base estimators\n",
      "Running AdaBoost with 20 base estimators\n",
      "Running AdaBoost with 30 base estimators\n",
      "Running AdaBoost with 40 base estimators\n",
      "Running AdaBoost with 50 base estimators\n",
      "Running AdaBoost with 60 base estimators\n",
      "Running AdaBoost with 70 base estimators\n",
      "Running AdaBoost with 80 base estimators\n",
      "Running AdaBoost with 90 base estimators\n",
      "Running AdaBoost with 100 base estimators\n"
     ]
    }
   ],
   "source": [
    "results_file = open('./results.csv', 'a')\n",
    "\n",
    "#base_model = CalibratedClassifierCV(Perceptron(random_state=0))\n",
    "base_model = Perceptron(random_state=0)\n",
    "meta_model = AdaBoostClassifier(base_estimator=base_model,\n",
    "                                algorithm='SAMME', random_state=0)           \n",
    "run_model('AdaBoost',meta_model, base_model, results_file)           \n",
    "results_file.close()"
   ]
  },
  {
   "cell_type": "markdown",
   "metadata": {},
   "source": [
    "### Random Subspaces (Fix me!)"
   ]
  },
  {
   "cell_type": "code",
   "execution_count": null,
   "metadata": {},
   "outputs": [],
   "source": [
    "results_file = open('./results.csv', 'a')\n",
    "\n",
    "#base_model = CalibratedClassifierCV(Perceptron(random_state=0))\n",
    "base_model = Perceptron(random_state=0)\n",
    "meta_model = BaggingClassifier(base_estimator=base_model, n_jobs=-1,\n",
    "                                random_state=0, bootstrap=False,\n",
    "                                bootstrap_features=False, max_features=0.5) \n",
    "#These three last parameters in the above class constructor call make it behave as the Random Subspace algoritm.\n",
    "\n",
    "run_model('RandomSubspaces',meta_model, base_model, results_file)           \n",
    "results_file.close()"
   ]
  },
  {
   "cell_type": "markdown",
   "metadata": {},
   "source": [
    "### Random Linear Oracles"
   ]
  },
  {
   "cell_type": "code",
   "execution_count": 25,
   "metadata": {},
   "outputs": [],
   "source": [
    "def run_model_rlo(meta_model_name, meta_model, base_model, results_file):\n",
    "    for n in [10, 20, 30, 40, 50, 60, 70, 80, 90, 100]:\n",
    "        print('Running', meta_model_name, 'with %d base estimators'%n)\n",
    "        meta_model.n_estimators=n\n",
    "        for name in ['vowel0']:\n",
    "        #for name in ds_names:\n",
    "            acc_folds = []\n",
    "            f1_folds = []\n",
    "            g_mean_folds = []\n",
    "            roc_auc_folds = []\n",
    "            oracle_scores = []\n",
    "            for fold in range(5):\n",
    "                ## Gather training data:\n",
    "                ds_train = datasets[name]['train'][fold]\n",
    "                target_att = ds_train.columns.tolist()[-1]\n",
    "                X_train = ds_train.drop(labels=target_att, axis = 1).to_numpy()\n",
    "                y_train = ds_train[target_att].to_numpy()\n",
    "\n",
    "                ## Gather test data:\n",
    "                ds_test = datasets[name]['test'][fold]\n",
    "                X_test = ds_test.drop(labels=target_att, axis = 1).to_numpy()\n",
    "                y_test = ds_test[target_att].to_numpy()\n",
    "\n",
    "                ## Train model with the training data:\n",
    "                meta_model.fit(X_train,y_train)\n",
    "\n",
    "                ## Save the model object to a file for later use\n",
    "                #filename = 'saved_models/'+meta_model_name+'_n'+str(n)+'_dataset_'+name+'_fold_'+str(fold)+'.sav'\n",
    "                #pickle.dump(meta_model, open(filename, 'wb'))\n",
    "                ## Later load model with: loaded_model = pickle.load(open(filename, 'rb'))\n",
    "\n",
    "                ## Test model:\n",
    "                #y_pred = meta_model.predict(X_test)\n",
    "                predictions, pred_ens, erro = meta_model.predict(X_test, y_test)\n",
    "                y_pred = pred_ens.T.ravel()\n",
    "                ## Calculate metrics:\n",
    "                acc = accuracy_score(y_test, y_pred)\n",
    "                f1 = f1_score(y_test, y_pred, pos_label=1)\n",
    "                g_mean = geometric_mean_score(y_test, y_pred)\n",
    "\n",
    "                ## Store metrics for this fold:\n",
    "                acc_folds.append(acc)\n",
    "                f1_folds.append(f1)\n",
    "                g_mean_folds.append(g_mean)\n",
    "                #cnf_matrix = confusion_matrix(y_test, y_pred)\n",
    "                #print(cnf_matrix)\n",
    "\n",
    "                oracle_score = meta_model.Oracle_score(X_test, y_test)\n",
    "                oracle_scores.append(oracle_score)\n",
    "\n",
    "            ## Calculate means and std devs for each metric \n",
    "            acc_mean = str(np.average(acc_folds))\n",
    "            acc_std_dev = str(np.std(acc_folds))\n",
    "            f1_mean = str(np.average(f1_folds))\n",
    "            f1_std_dev = str(np.std(f1_folds))\n",
    "            g_mean_mean = str(np.average(g_mean_folds))\n",
    "            g_mean_std_dev = str(np.std(g_mean_folds))\n",
    "            oracle_mean = str(np.average(oracle_scores))\n",
    "            oracle_std_dev = str(np.std(oracle_scores))\n",
    "            results_file.write(name+','+meta_model_name+','+str(n)+','+acc_mean+','+acc_std_dev+','+f1_mean+','\n",
    "                               +f1_std_dev+','+g_mean_mean+','+g_mean_std_dev+','+oracle_mean+','+oracle_std_dev+'\\n')\n"
   ]
  },
  {
   "cell_type": "code",
   "execution_count": null,
   "metadata": {
    "jupyter": {
     "source_hidden": true
    }
   },
   "outputs": [],
   "source": [
    "#Test RLO\n",
    "\n",
    "base_model = Perceptron(random_state=0)\n",
    "meta_model = RLO(base_estimator=base_model) \n",
    "\n",
    "ds_train = datasets['wisconsin']['train'][0]\n",
    "target_att = ds_train.columns.tolist()[-1]\n",
    "X_train = ds_train.drop(labels=target_att, axis = 1).to_numpy()\n",
    "y_train = ds_train[target_att].to_numpy()\n",
    "ds_test = datasets['wisconsin']['test'][0]\n",
    "X_test = ds_test.drop(labels=target_att, axis = 1).to_numpy()\n",
    "y_test = ds_test[target_att].to_numpy()\n",
    "\n",
    "meta_model.fit(X_train, y_train)\n",
    "predictions, pred_ens, erro = meta_model.predict(X_test, y_test)\n",
    "y_pred = pred_ens.T.ravel()\n",
    "\n",
    "print(accuracy_score(y_test, y_pred))\n",
    "print(f1_score(y_test, y_pred, pos_label=1))\n",
    "print(geometric_mean_score(y_test, y_pred))\n",
    "\n",
    "#Oracle:\n",
    "print('Oracle accuracy: ', meta_model.Oracle_score(X_test, y_test))\n"
   ]
  },
  {
   "cell_type": "code",
   "execution_count": 26,
   "metadata": {},
   "outputs": [
    {
     "name": "stdout",
     "output_type": "stream",
     "text": [
      "Built RLO\n",
      "Running RLO with 10 base estimators\n",
      "Running RLO with 20 base estimators\n",
      "Running RLO with 30 base estimators\n"
     ]
    },
    {
     "ename": "ValueError",
     "evalue": "Found array with 0 sample(s) (shape=(0, 13)) while a minimum of 1 is required.",
     "output_type": "error",
     "traceback": [
      "\u001b[0;31m---------------------------------------------------------------------------\u001b[0m",
      "\u001b[0;31mValueError\u001b[0m                                Traceback (most recent call last)",
      "\u001b[0;32m<ipython-input-26-8d5c8180c0cd>\u001b[0m in \u001b[0;36m<module>\u001b[0;34m\u001b[0m\n\u001b[1;32m      5\u001b[0m \u001b[0mmeta_model\u001b[0m \u001b[0;34m=\u001b[0m \u001b[0mRLO\u001b[0m\u001b[0;34m(\u001b[0m\u001b[0mbase_estimator\u001b[0m\u001b[0;34m=\u001b[0m\u001b[0mbase_model\u001b[0m\u001b[0;34m)\u001b[0m\u001b[0;34m\u001b[0m\u001b[0;34m\u001b[0m\u001b[0m\n\u001b[1;32m      6\u001b[0m \u001b[0;34m\u001b[0m\u001b[0m\n\u001b[0;32m----> 7\u001b[0;31m \u001b[0mrun_model_rlo\u001b[0m\u001b[0;34m(\u001b[0m\u001b[0;34m'RLO'\u001b[0m\u001b[0;34m,\u001b[0m\u001b[0mmeta_model\u001b[0m\u001b[0;34m,\u001b[0m \u001b[0mbase_model\u001b[0m\u001b[0;34m,\u001b[0m \u001b[0mresults_file\u001b[0m\u001b[0;34m)\u001b[0m\u001b[0;34m\u001b[0m\u001b[0;34m\u001b[0m\u001b[0m\n\u001b[0m\u001b[1;32m      8\u001b[0m \u001b[0mresults_file\u001b[0m\u001b[0;34m.\u001b[0m\u001b[0mclose\u001b[0m\u001b[0;34m(\u001b[0m\u001b[0;34m)\u001b[0m\u001b[0;34m\u001b[0m\u001b[0;34m\u001b[0m\u001b[0m\n",
      "\u001b[0;32m<ipython-input-25-9fa310da3084>\u001b[0m in \u001b[0;36mrun_model_rlo\u001b[0;34m(meta_model_name, meta_model, base_model, results_file)\u001b[0m\n\u001b[1;32m     32\u001b[0m                 \u001b[0;31m## Test model:\u001b[0m\u001b[0;34m\u001b[0m\u001b[0;34m\u001b[0m\u001b[0;34m\u001b[0m\u001b[0m\n\u001b[1;32m     33\u001b[0m                 \u001b[0;31m#y_pred = meta_model.predict(X_test)\u001b[0m\u001b[0;34m\u001b[0m\u001b[0;34m\u001b[0m\u001b[0;34m\u001b[0m\u001b[0m\n\u001b[0;32m---> 34\u001b[0;31m                 \u001b[0mpredictions\u001b[0m\u001b[0;34m,\u001b[0m \u001b[0mpred_ens\u001b[0m\u001b[0;34m,\u001b[0m \u001b[0merro\u001b[0m \u001b[0;34m=\u001b[0m \u001b[0mmeta_model\u001b[0m\u001b[0;34m.\u001b[0m\u001b[0mpredict\u001b[0m\u001b[0;34m(\u001b[0m\u001b[0mX_test\u001b[0m\u001b[0;34m,\u001b[0m \u001b[0my_test\u001b[0m\u001b[0;34m)\u001b[0m\u001b[0;34m\u001b[0m\u001b[0;34m\u001b[0m\u001b[0m\n\u001b[0m\u001b[1;32m     35\u001b[0m                 \u001b[0my_pred\u001b[0m \u001b[0;34m=\u001b[0m \u001b[0mpred_ens\u001b[0m\u001b[0;34m.\u001b[0m\u001b[0mT\u001b[0m\u001b[0;34m.\u001b[0m\u001b[0mravel\u001b[0m\u001b[0;34m(\u001b[0m\u001b[0;34m)\u001b[0m\u001b[0;34m\u001b[0m\u001b[0;34m\u001b[0m\u001b[0m\n\u001b[1;32m     36\u001b[0m                 \u001b[0;31m## Calculate metrics:\u001b[0m\u001b[0;34m\u001b[0m\u001b[0;34m\u001b[0m\u001b[0;34m\u001b[0m\u001b[0m\n",
      "\u001b[0;32m~/Dropbox/Doutorado/CIn/2020.2/IN1105 - Tópicos MCS/Exercício 1/rlo.py\u001b[0m in \u001b[0;36mpredict\u001b[0;34m(self, X, y)\u001b[0m\n\u001b[1;32m     47\u001b[0m         \u001b[0;32mfor\u001b[0m \u001b[0mi\u001b[0m \u001b[0;32min\u001b[0m \u001b[0mrange\u001b[0m\u001b[0;34m(\u001b[0m\u001b[0mL\u001b[0m\u001b[0;34m)\u001b[0m\u001b[0;34m:\u001b[0m\u001b[0;34m\u001b[0m\u001b[0;34m\u001b[0m\u001b[0m\n\u001b[1;32m     48\u001b[0m             \u001b[0mleft\u001b[0m \u001b[0;34m=\u001b[0m \u001b[0mnp\u001b[0m\u001b[0;34m.\u001b[0m\u001b[0mhstack\u001b[0m\u001b[0;34m(\u001b[0m\u001b[0;34m(\u001b[0m\u001b[0mX\u001b[0m\u001b[0;34m,\u001b[0m \u001b[0mnp\u001b[0m\u001b[0;34m.\u001b[0m\u001b[0mones\u001b[0m\u001b[0;34m(\u001b[0m\u001b[0;34m(\u001b[0m\u001b[0mX\u001b[0m\u001b[0;34m.\u001b[0m\u001b[0mshape\u001b[0m\u001b[0;34m[\u001b[0m\u001b[0;36m0\u001b[0m\u001b[0;34m]\u001b[0m\u001b[0;34m,\u001b[0m \u001b[0;36m1\u001b[0m\u001b[0;34m)\u001b[0m\u001b[0;34m)\u001b[0m\u001b[0;34m)\u001b[0m\u001b[0;34m)\u001b[0m \u001b[0;34m@\u001b[0m \u001b[0mself\u001b[0m\u001b[0;34m.\u001b[0m\u001b[0mH\u001b[0m\u001b[0;34m[\u001b[0m\u001b[0;34mf'H_{i}'\u001b[0m\u001b[0;34m]\u001b[0m\u001b[0;34m.\u001b[0m\u001b[0mT\u001b[0m \u001b[0;34m>\u001b[0m \u001b[0;36m0\u001b[0m\u001b[0;34m\u001b[0m\u001b[0;34m\u001b[0m\u001b[0m\n\u001b[0;32m---> 49\u001b[0;31m             \u001b[0mens\u001b[0m\u001b[0;34m[\u001b[0m\u001b[0mleft\u001b[0m\u001b[0;34m,\u001b[0m \u001b[0mi\u001b[0m\u001b[0;34m]\u001b[0m \u001b[0;34m=\u001b[0m \u001b[0mself\u001b[0m\u001b[0;34m.\u001b[0m\u001b[0mE\u001b[0m\u001b[0;34m[\u001b[0m\u001b[0;34mf'D_{i}'\u001b[0m\u001b[0;34m]\u001b[0m\u001b[0;34m[\u001b[0m\u001b[0;34m'left'\u001b[0m\u001b[0;34m]\u001b[0m\u001b[0;34m.\u001b[0m\u001b[0mpredict\u001b[0m\u001b[0;34m(\u001b[0m\u001b[0mX\u001b[0m\u001b[0;34m[\u001b[0m\u001b[0mleft\u001b[0m\u001b[0;34m,\u001b[0m \u001b[0;34m:\u001b[0m\u001b[0;34m]\u001b[0m\u001b[0;34m)\u001b[0m\u001b[0;34m\u001b[0m\u001b[0;34m\u001b[0m\u001b[0m\n\u001b[0m\u001b[1;32m     50\u001b[0m             \u001b[0mens\u001b[0m\u001b[0;34m[\u001b[0m\u001b[0;34m~\u001b[0m\u001b[0mleft\u001b[0m\u001b[0;34m,\u001b[0m \u001b[0mi\u001b[0m\u001b[0;34m]\u001b[0m \u001b[0;34m=\u001b[0m \u001b[0mself\u001b[0m\u001b[0;34m.\u001b[0m\u001b[0mE\u001b[0m\u001b[0;34m[\u001b[0m\u001b[0;34mf'D_{i}'\u001b[0m\u001b[0;34m]\u001b[0m\u001b[0;34m[\u001b[0m\u001b[0;34m'right'\u001b[0m\u001b[0;34m]\u001b[0m\u001b[0;34m.\u001b[0m\u001b[0mpredict\u001b[0m\u001b[0;34m(\u001b[0m\u001b[0mX\u001b[0m\u001b[0;34m[\u001b[0m\u001b[0;34m~\u001b[0m\u001b[0mleft\u001b[0m\u001b[0;34m,\u001b[0m \u001b[0;34m:\u001b[0m\u001b[0;34m]\u001b[0m\u001b[0;34m)\u001b[0m\u001b[0;34m\u001b[0m\u001b[0;34m\u001b[0m\u001b[0m\n\u001b[1;32m     51\u001b[0m \u001b[0;34m\u001b[0m\u001b[0m\n",
      "\u001b[0;32m/usr/local/anaconda3/lib/python3.8/site-packages/sklearn/linear_model/_base.py\u001b[0m in \u001b[0;36mpredict\u001b[0;34m(self, X)\u001b[0m\n\u001b[1;32m    305\u001b[0m             \u001b[0mPredicted\u001b[0m \u001b[0;32mclass\u001b[0m \u001b[0mlabel\u001b[0m \u001b[0mper\u001b[0m \u001b[0msample\u001b[0m\u001b[0;34m.\u001b[0m\u001b[0;34m\u001b[0m\u001b[0;34m\u001b[0m\u001b[0m\n\u001b[1;32m    306\u001b[0m         \"\"\"\n\u001b[0;32m--> 307\u001b[0;31m         \u001b[0mscores\u001b[0m \u001b[0;34m=\u001b[0m \u001b[0mself\u001b[0m\u001b[0;34m.\u001b[0m\u001b[0mdecision_function\u001b[0m\u001b[0;34m(\u001b[0m\u001b[0mX\u001b[0m\u001b[0;34m)\u001b[0m\u001b[0;34m\u001b[0m\u001b[0;34m\u001b[0m\u001b[0m\n\u001b[0m\u001b[1;32m    308\u001b[0m         \u001b[0;32mif\u001b[0m \u001b[0mlen\u001b[0m\u001b[0;34m(\u001b[0m\u001b[0mscores\u001b[0m\u001b[0;34m.\u001b[0m\u001b[0mshape\u001b[0m\u001b[0;34m)\u001b[0m \u001b[0;34m==\u001b[0m \u001b[0;36m1\u001b[0m\u001b[0;34m:\u001b[0m\u001b[0;34m\u001b[0m\u001b[0;34m\u001b[0m\u001b[0m\n\u001b[1;32m    309\u001b[0m             \u001b[0mindices\u001b[0m \u001b[0;34m=\u001b[0m \u001b[0;34m(\u001b[0m\u001b[0mscores\u001b[0m \u001b[0;34m>\u001b[0m \u001b[0;36m0\u001b[0m\u001b[0;34m)\u001b[0m\u001b[0;34m.\u001b[0m\u001b[0mastype\u001b[0m\u001b[0;34m(\u001b[0m\u001b[0mnp\u001b[0m\u001b[0;34m.\u001b[0m\u001b[0mint\u001b[0m\u001b[0;34m)\u001b[0m\u001b[0;34m\u001b[0m\u001b[0;34m\u001b[0m\u001b[0m\n",
      "\u001b[0;32m/usr/local/anaconda3/lib/python3.8/site-packages/sklearn/linear_model/_base.py\u001b[0m in \u001b[0;36mdecision_function\u001b[0;34m(self, X)\u001b[0m\n\u001b[1;32m    280\u001b[0m         \u001b[0mcheck_is_fitted\u001b[0m\u001b[0;34m(\u001b[0m\u001b[0mself\u001b[0m\u001b[0;34m)\u001b[0m\u001b[0;34m\u001b[0m\u001b[0;34m\u001b[0m\u001b[0m\n\u001b[1;32m    281\u001b[0m \u001b[0;34m\u001b[0m\u001b[0m\n\u001b[0;32m--> 282\u001b[0;31m         \u001b[0mX\u001b[0m \u001b[0;34m=\u001b[0m \u001b[0mcheck_array\u001b[0m\u001b[0;34m(\u001b[0m\u001b[0mX\u001b[0m\u001b[0;34m,\u001b[0m \u001b[0maccept_sparse\u001b[0m\u001b[0;34m=\u001b[0m\u001b[0;34m'csr'\u001b[0m\u001b[0;34m)\u001b[0m\u001b[0;34m\u001b[0m\u001b[0;34m\u001b[0m\u001b[0m\n\u001b[0m\u001b[1;32m    283\u001b[0m \u001b[0;34m\u001b[0m\u001b[0m\n\u001b[1;32m    284\u001b[0m         \u001b[0mn_features\u001b[0m \u001b[0;34m=\u001b[0m \u001b[0mself\u001b[0m\u001b[0;34m.\u001b[0m\u001b[0mcoef_\u001b[0m\u001b[0;34m.\u001b[0m\u001b[0mshape\u001b[0m\u001b[0;34m[\u001b[0m\u001b[0;36m1\u001b[0m\u001b[0;34m]\u001b[0m\u001b[0;34m\u001b[0m\u001b[0;34m\u001b[0m\u001b[0m\n",
      "\u001b[0;32m/usr/local/anaconda3/lib/python3.8/site-packages/sklearn/utils/validation.py\u001b[0m in \u001b[0;36minner_f\u001b[0;34m(*args, **kwargs)\u001b[0m\n\u001b[1;32m     71\u001b[0m                           FutureWarning)\n\u001b[1;32m     72\u001b[0m         \u001b[0mkwargs\u001b[0m\u001b[0;34m.\u001b[0m\u001b[0mupdate\u001b[0m\u001b[0;34m(\u001b[0m\u001b[0;34m{\u001b[0m\u001b[0mk\u001b[0m\u001b[0;34m:\u001b[0m \u001b[0marg\u001b[0m \u001b[0;32mfor\u001b[0m \u001b[0mk\u001b[0m\u001b[0;34m,\u001b[0m \u001b[0marg\u001b[0m \u001b[0;32min\u001b[0m \u001b[0mzip\u001b[0m\u001b[0;34m(\u001b[0m\u001b[0msig\u001b[0m\u001b[0;34m.\u001b[0m\u001b[0mparameters\u001b[0m\u001b[0;34m,\u001b[0m \u001b[0margs\u001b[0m\u001b[0;34m)\u001b[0m\u001b[0;34m}\u001b[0m\u001b[0;34m)\u001b[0m\u001b[0;34m\u001b[0m\u001b[0;34m\u001b[0m\u001b[0m\n\u001b[0;32m---> 73\u001b[0;31m         \u001b[0;32mreturn\u001b[0m \u001b[0mf\u001b[0m\u001b[0;34m(\u001b[0m\u001b[0;34m**\u001b[0m\u001b[0mkwargs\u001b[0m\u001b[0;34m)\u001b[0m\u001b[0;34m\u001b[0m\u001b[0;34m\u001b[0m\u001b[0m\n\u001b[0m\u001b[1;32m     74\u001b[0m     \u001b[0;32mreturn\u001b[0m \u001b[0minner_f\u001b[0m\u001b[0;34m\u001b[0m\u001b[0;34m\u001b[0m\u001b[0m\n\u001b[1;32m     75\u001b[0m \u001b[0;34m\u001b[0m\u001b[0m\n",
      "\u001b[0;32m/usr/local/anaconda3/lib/python3.8/site-packages/sklearn/utils/validation.py\u001b[0m in \u001b[0;36mcheck_array\u001b[0;34m(array, accept_sparse, accept_large_sparse, dtype, order, copy, force_all_finite, ensure_2d, allow_nd, ensure_min_samples, ensure_min_features, estimator)\u001b[0m\n\u001b[1;32m    649\u001b[0m         \u001b[0mn_samples\u001b[0m \u001b[0;34m=\u001b[0m \u001b[0m_num_samples\u001b[0m\u001b[0;34m(\u001b[0m\u001b[0marray\u001b[0m\u001b[0;34m)\u001b[0m\u001b[0;34m\u001b[0m\u001b[0;34m\u001b[0m\u001b[0m\n\u001b[1;32m    650\u001b[0m         \u001b[0;32mif\u001b[0m \u001b[0mn_samples\u001b[0m \u001b[0;34m<\u001b[0m \u001b[0mensure_min_samples\u001b[0m\u001b[0;34m:\u001b[0m\u001b[0;34m\u001b[0m\u001b[0;34m\u001b[0m\u001b[0m\n\u001b[0;32m--> 651\u001b[0;31m             raise ValueError(\"Found array with %d sample(s) (shape=%s) while a\"\n\u001b[0m\u001b[1;32m    652\u001b[0m                              \u001b[0;34m\" minimum of %d is required%s.\"\u001b[0m\u001b[0;34m\u001b[0m\u001b[0;34m\u001b[0m\u001b[0m\n\u001b[1;32m    653\u001b[0m                              % (n_samples, array.shape, ensure_min_samples,\n",
      "\u001b[0;31mValueError\u001b[0m: Found array with 0 sample(s) (shape=(0, 13)) while a minimum of 1 is required."
     ]
    }
   ],
   "source": [
    "results_file = open('./results.csv', 'a')\n",
    "\n",
    "#base_model = CalibratedClassifierCV(Perceptron(random_state=0))\n",
    "base_model = Perceptron(random_state=0)\n",
    "meta_model = RLO(base_estimator=base_model)\n",
    "\n",
    "run_model_rlo('RLO',meta_model, base_model, results_file)           \n",
    "results_file.close()"
   ]
  },
  {
   "cell_type": "code",
   "execution_count": 20,
   "metadata": {},
   "outputs": [],
   "source": [
    "results_file.close()"
   ]
  },
  {
   "cell_type": "code",
   "execution_count": null,
   "metadata": {},
   "outputs": [],
   "source": []
  }
 ],
 "metadata": {
  "kernelspec": {
   "display_name": "Python 3",
   "language": "python",
   "name": "python3"
  },
  "language_info": {
   "codemirror_mode": {
    "name": "ipython",
    "version": 3
   },
   "file_extension": ".py",
   "mimetype": "text/x-python",
   "name": "python",
   "nbconvert_exporter": "python",
   "pygments_lexer": "ipython3",
   "version": "3.8.3"
  }
 },
 "nbformat": 4,
 "nbformat_minor": 4
}
